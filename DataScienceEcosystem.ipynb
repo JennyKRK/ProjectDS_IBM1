{
 "cells": [
  {
   "cell_type": "markdown",
   "id": "86aea6e9",
   "metadata": {},
   "source": [
    "# Data Science Tools and Ecosystem"
   ]
  },
  {
   "cell_type": "markdown",
   "id": "9c91be87",
   "metadata": {},
   "source": [
    "This Workbook contains a summary of Data Science Tools and Ecosystem."
   ]
  },
  {
   "cell_type": "markdown",
   "id": "266259d7",
   "metadata": {},
   "source": [
    "Some of the most popular languages used for Data Science are:\n",
    "<ol>\n",
    "<li>Python</li>\n",
    "<li>SQL</li>\n",
    "<li>R</li>\n",
    "</ol>"
   ]
  },
  {
   "cell_type": "markdown",
   "id": "29cee119",
   "metadata": {},
   "source": [
    "Some of the most popular libraries used for Data Science are:\n",
    "<ol>\n",
    "<li>Pandas</li>\n",
    "<li>Numpy</li>\n",
    "<li>Matplotlib</li>\n",
    "<li>Seaborn</li>\n",
    "</ol>"
   ]
  },
  {
   "cell_type": "markdown",
   "id": "fa15cd5f",
   "metadata": {},
   "source": [
    "<table>\n",
    "<tr>\n",
    "<th>Data Science Tools</th>\n",
    "</tr>\n",
    "\n",
    "<tr>\n",
    "<td>Jupyter Notebooks</td>\n",
    "</tr>\n",
    "\n",
    "<tr>\n",
    "<td>R Studio</td>\n",
    "</tr>\n",
    "\n",
    "<tr>\n",
    "<td>Spyder</td>\n",
    "</tr>\n",
    "\n",
    "</table>"
   ]
  },
  {
   "cell_type": "markdown",
   "id": "1c48723b",
   "metadata": {},
   "source": [
    "### Below are a few examples of evaluating arythmetic expressions in Python"
   ]
  },
  {
   "cell_type": "code",
   "execution_count": 3,
   "id": "d1a1ebfc",
   "metadata": {},
   "outputs": [
    {
     "data": {
      "text/plain": [
       "17"
      ]
     },
     "execution_count": 3,
     "metadata": {},
     "output_type": "execute_result"
    }
   ],
   "source": [
    "#This is a simple arythmetic expression to multiply and add numbers\n",
    "(3*4)+5"
   ]
  },
  {
   "cell_type": "code",
   "execution_count": 4,
   "id": "d2888525",
   "metadata": {},
   "outputs": [
    {
     "data": {
      "text/plain": [
       "3.3333333333333335"
      ]
     },
     "execution_count": 4,
     "metadata": {},
     "output_type": "execute_result"
    }
   ],
   "source": [
    "#This will convert 200 minutes into hours by dividing by 6\n",
    "200/60"
   ]
  },
  {
   "cell_type": "markdown",
   "id": "754087d5",
   "metadata": {},
   "source": [
    "Objectives\n",
    "<ul>\n",
    "<li>List popular languages for Data Science</li>\n",
    "<li>List the most popular tools used for Data Science</li>\n",
    "<li>List the categories of the Data Science Tools</li>\n",
    "</ul>"
   ]
  },
  {
   "cell_type": "markdown",
   "id": "29718317",
   "metadata": {},
   "source": [
    "## Author's name: \n",
    "Joanna"
   ]
  }
 ],
 "metadata": {
  "kernelspec": {
   "display_name": "Python 3 (ipykernel)",
   "language": "python",
   "name": "python3"
  },
  "language_info": {
   "codemirror_mode": {
    "name": "ipython",
    "version": 3
   },
   "file_extension": ".py",
   "mimetype": "text/x-python",
   "name": "python",
   "nbconvert_exporter": "python",
   "pygments_lexer": "ipython3",
   "version": "3.11.3"
  }
 },
 "nbformat": 4,
 "nbformat_minor": 5
}
